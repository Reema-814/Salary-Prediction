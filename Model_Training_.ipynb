{
  "nbformat": 4,
  "nbformat_minor": 0,
  "metadata": {
    "colab": {
      "provenance": []
    },
    "kernelspec": {
      "name": "python3",
      "display_name": "Python 3"
    },
    "language_info": {
      "name": "python"
    }
  },
  "cells": [
    {
      "cell_type": "code",
      "source": [
        "from google.colab import drive\n",
        "drive.mount(\"/content/drive\")"
      ],
      "metadata": {
        "id": "q61qu2x2qNkG"
      },
      "execution_count": null,
      "outputs": []
    },
    {
      "cell_type": "code",
      "source": [
        "# Import necessary libraries\n",
        "import pandas as pd\n",
        "import matplotlib.pyplot as plt\n",
        "import seaborn as sns\n",
        "import plotly.express as px\n"
      ],
      "metadata": {
        "id": "QG2ZuyI5qNza"
      },
      "execution_count": null,
      "outputs": []
    },
    {
      "cell_type": "code",
      "source": [
        "#Dataset\n",
        "df = pd.read_csv('/content/drive/MyDrive/Salary Data.csv')\n"
      ],
      "metadata": {
        "id": "aWJ7m4qRqXtZ"
      },
      "execution_count": null,
      "outputs": []
    },
    {
      "cell_type": "code",
      "source": [
        "print(df.head())"
      ],
      "metadata": {
        "id": "hLrlzbAhqcVh"
      },
      "execution_count": null,
      "outputs": []
    },
    {
      "cell_type": "code",
      "source": [
        "print(df.describe())"
      ],
      "metadata": {
        "id": "LGb4RDFBqdJy"
      },
      "execution_count": null,
      "outputs": []
    },
    {
      "cell_type": "code",
      "source": [
        "print(df.info())"
      ],
      "metadata": {
        "id": "VkhQPZtYqgTF"
      },
      "execution_count": null,
      "outputs": []
    },
    {
      "cell_type": "code",
      "source": [
        "print(df.isnull().sum())"
      ],
      "metadata": {
        "id": "8-cipaAyqjEa"
      },
      "execution_count": null,
      "outputs": []
    },
    {
      "cell_type": "code",
      "source": [
        "# Impute missing values with mean for numerical columns\n",
        "df['Age'].fillna(df['Age'].mean(), inplace=True)\n",
        "df['Years of Experience'].fillna(df['Years of Experience'].mean(), inplace=True)\n",
        "df['Salary'].fillna(df['Salary'].mean(), inplace=True)\n"
      ],
      "metadata": {
        "id": "tdq-Tdhnql5W"
      },
      "execution_count": null,
      "outputs": []
    },
    {
      "cell_type": "code",
      "source": [
        "# Impute missing values with mode for categorical columns\n",
        "df['Gender'].fillna(df['Gender'].mode()[0], inplace=True)\n",
        "df['Education Level'].fillna(df['Education Level'].mode()[0], inplace=True)\n",
        "df['Job Title'].fillna(df['Job Title'].mode()[0], inplace=True)"
      ],
      "metadata": {
        "id": "kjKdlpthqpIR"
      },
      "execution_count": null,
      "outputs": []
    },
    {
      "cell_type": "code",
      "source": [
        "print(df.isnull().sum())"
      ],
      "metadata": {
        "id": "epic35hfqsYB"
      },
      "execution_count": null,
      "outputs": []
    },
    {
      "cell_type": "code",
      "source": [
        "# Bar plot for average salary by years of experience\n",
        "plt.figure(figsize=(12, 6))\n",
        "sns.barplot(x='Years of Experience', y='Salary', data=df, ci=None)  # ci=None removes error bars\n",
        "plt.xlabel('Years of Experience')\n",
        "plt.ylabel('Average Salary')\n",
        "plt.title('Bar Plot of Average Salary by Years of Experience')\n",
        "plt.show()"
      ],
      "metadata": {
        "id": "byK0a6qGqvzc"
      },
      "execution_count": null,
      "outputs": []
    },
    {
      "cell_type": "code",
      "source": [
        "# List of specific job titles you want to include in the plot\n",
        "selected_job_titles = ['Data Analyst','Software Engineer','Sales Manager','HR Manager','Project Manager']\n"
      ],
      "metadata": {
        "id": "N4p5I7POqz1Q"
      },
      "execution_count": null,
      "outputs": []
    },
    {
      "cell_type": "code",
      "source": [
        "# Filter DataFrame to include only the selected job titles\n",
        "filtered_df = df[df['Job Title'].isin(selected_job_titles)]"
      ],
      "metadata": {
        "id": "W1ZNxuMJq4TY"
      },
      "execution_count": null,
      "outputs": []
    },
    {
      "cell_type": "code",
      "source": [
        "# Bar plot for average salary by job title\n",
        "plt.figure(figsize=(12, 6))\n",
        "sns.barplot(x='Job Title', y='Salary', data=filtered_df, ci=None)  # ci=None removes error bars\n",
        "plt.xlabel('Job Title')\n",
        "plt.ylabel('Average Salary')\n",
        "plt.title('Bar Plot of Average Salary for Selected Job Titles')\n",
        "plt.xticks(rotation=45, ha='right')  # Rotate x-axis labels for better readability\n",
        "plt.show()\n"
      ],
      "metadata": {
        "id": "t8lW2H7qq8Qt"
      },
      "execution_count": null,
      "outputs": []
    },
    {
      "cell_type": "code",
      "source": [
        "from sklearn.model_selection import train_test_split\n",
        "from sklearn.linear_model import LinearRegression, Lasso, Ridge\n",
        "from sklearn.neighbors import KNeighborsRegressor\n",
        "from sklearn.tree import DecisionTreeRegressor\n",
        "from sklearn.metrics import mean_squared_error, r2_score\n",
        "import numpy as np"
      ],
      "metadata": {
        "id": "Mq-x6tFjq_9V"
      },
      "execution_count": null,
      "outputs": []
    },
    {
      "cell_type": "code",
      "source": [
        "# Assuming 'df' is your DataFrame\n",
        "features = ['Age', 'Years of Experience']\n",
        "target = 'Salary'\n",
        "\n"
      ],
      "metadata": {
        "id": "YQ3rWtpPrFLw"
      },
      "execution_count": null,
      "outputs": []
    },
    {
      "cell_type": "code",
      "source": [
        "# Splitting the data into training and testing sets\n",
        "X = df[features]\n",
        "y = df[target]"
      ],
      "metadata": {
        "id": "zuETrvkRrJX7"
      },
      "execution_count": null,
      "outputs": []
    },
    {
      "cell_type": "code",
      "source": [
        "X_train, X_test, y_train, y_test = train_test_split(X, y, test_size=0.2, random_state=42)\n"
      ],
      "metadata": {
        "id": "e8EnrsQUrKJc"
      },
      "execution_count": null,
      "outputs": []
    },
    {
      "cell_type": "code",
      "source": [
        "# Models\n",
        "models = {\n",
        "    'lr': LinearRegression(),\n",
        "    'lss': Lasso(),\n",
        "    'rg': Ridge(),\n",
        "    'knr': KNeighborsRegressor(),\n",
        "    'dtr': DecisionTreeRegressor()\n",
        "}\n"
      ],
      "metadata": {
        "id": "gmxBsVazrNBg"
      },
      "execution_count": null,
      "outputs": []
    },
    {
      "cell_type": "code",
      "source": [
        "# Training and evaluating each model\n",
        "for name, model in models.items():\n",
        "    model.fit(X_train, y_train)\n",
        "    y_pred = model.predict(X_test)\n",
        "    mse = mean_squared_error(y_test, y_pred)\n",
        "    r2 = r2_score(y_test, y_pred)\n",
        "    print(f\"{name} MSE: {mse} Score: {r2}\")\n"
      ],
      "metadata": {
        "id": "PoFNMqlBrSNa"
      },
      "execution_count": null,
      "outputs": []
    }
  ]
}